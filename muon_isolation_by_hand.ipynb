{
 "cells": [
  {
   "cell_type": "code",
   "execution_count": null,
   "id": "d75c9732-504c-4a73-ae88-34b01cd39904",
   "metadata": {},
   "outputs": [],
   "source": [
    "import numpy as np\n",
    "import pandas as pd\n",
    "from ftag.hdf5 import H5Reader "
   ]
  },
  {
   "cell_type": "code",
   "execution_count": null,
   "id": "c6525133-6b1f-4860-9c84-73bfd04673e4",
   "metadata": {},
   "outputs": [],
   "source": [
    "! h5ls -v maya.h5/muons"
   ]
  },
  {
   "cell_type": "code",
   "execution_count": null,
   "id": "72290072-b8ba-4218-af9d-acd583a8137b",
   "metadata": {},
   "outputs": [],
   "source": [
    "! h5ls -v maya.h5/muon_tracks"
   ]
  },
  {
   "cell_type": "code",
   "execution_count": null,
   "id": "aacf6b7e-377f-48f9-bd07-fec8e67bb981",
   "metadata": {},
   "outputs": [],
   "source": [
    "fname = \"maya.h5\"\n",
    "reader = H5Reader(fname, batch_size=100, jets_name=\"muons\")\n",
    "\n",
    "muon_variables = [\"pt\", \"eta\", \"ptvarcone30Rel\", \"iffClass\"]\n",
    "track_variables = [\"pt\", \"eta\", \"dr_lepton\", \"leptonID\", \"valid\"]\n",
    "data = reader.load({\"muons\": muon_variables, \"muon_tracks\": track_variables}, num_jets=3_453) "
   ]
  },
  {
   "cell_type": "code",
   "execution_count": null,
   "id": "2b16dd14-249a-43c0-96ed-156421cd1c5a",
   "metadata": {},
   "outputs": [],
   "source": [
    "muons = data['muons']\n",
    "tracks = data['muon_tracks']"
   ]
  },
  {
   "cell_type": "code",
   "execution_count": null,
   "id": "0d11717d-de9d-4750-aacd-b08558e20074",
   "metadata": {},
   "outputs": [],
   "source": [
    "muons"
   ]
  },
  {
   "cell_type": "code",
   "execution_count": null,
   "id": "0e0fb330-c3b0-4608-aef5-69b58a177fe9",
   "metadata": {},
   "outputs": [],
   "source": [
    "tracks"
   ]
  },
  {
   "cell_type": "code",
   "execution_count": null,
   "id": "a0312c36-ded1-48aa-9fa2-9cf390a36a59",
   "metadata": {},
   "outputs": [],
   "source": [
    "def compute_isolation(muons, tracks, ptcone_size=0.4, n_entries=-1):\n",
    "\n",
    "    dict_muon_dataframe = {\n",
    "        \"pt\": [],\n",
    "        \"eta\": [],\n",
    "        \"isolation\": [],\n",
    "        \"iffClass\": [],\n",
    "    }\n",
    "    \n",
    "    # here we loop over muons\n",
    "    loop_counter = 0\n",
    "    for muon, track_array in zip(muons, tracks):\n",
    "        muon_pt = muon[0]\n",
    "        muon_eta = muon[1]\n",
    "        muon_ptvarcone30Rel = muon[2]\n",
    "        muon_class = muon[3]\n",
    "        \n",
    "        sum_ptcone = 0.0\n",
    "        # here we loop over tracks associated with muons\n",
    "        for track in track_array:\n",
    "            if not track[0]: continue\n",
    "            track_pt = track[1]\n",
    "            track_eta = track[2]\n",
    "            track_dR_to_lepton = track[3]\n",
    "            track_is_muon = (abs(track[4]) == 13)\n",
    "\n",
    "            # compute track-based isolation\n",
    "            if not track_is_muon and (track_dR_to_lepton < ptcone_size):\n",
    "                sum_ptcone += track_pt\n",
    "\n",
    "        relative_isolation = sum_ptcone / muon_pt\n",
    "        loop_counter += 1\n",
    "        if loop_counter > n_entries and n_entries > 0: break\n",
    "            \n",
    "        print(f\"ptcone{int(ptcone_size*100)}/pt: {relative_isolation}, muon_ptvarcone30Rel: {muon_ptvarcone30Rel} , isolation class: {muon_class}\")\n",
    "        dict_muon_dataframe[\"pt\"].append(muon_pt)\n",
    "        dict_muon_dataframe[\"eta\"].append(muon_eta)\n",
    "        dict_muon_dataframe[\"isolation\"].append(relative_isolation)\n",
    "        dict_muon_dataframe[\"iffClass\"].append(muon_class)\n",
    "\n",
    "    return dict_muon_dataframe\n",
    "\n",
    "dict_muons = compute_isolation(muons, tracks, 0.3, 10)\n",
    "\n",
    "# convert this to a dataframe"
   ]
  },
  {
   "cell_type": "code",
   "execution_count": null,
   "id": "d05fa856-6db3-400b-9c27-93d81b84b522",
   "metadata": {},
   "outputs": [],
   "source": []
  }
 ],
 "metadata": {
  "kernelspec": {
   "display_name": "Python 3 (ipykernel)",
   "language": "python",
   "name": "python3"
  },
  "language_info": {
   "codemirror_mode": {
    "name": "ipython",
    "version": 3
   },
   "file_extension": ".py",
   "mimetype": "text/x-python",
   "name": "python",
   "nbconvert_exporter": "python",
   "pygments_lexer": "ipython3",
   "version": "3.10.10"
  }
 },
 "nbformat": 4,
 "nbformat_minor": 5
}
